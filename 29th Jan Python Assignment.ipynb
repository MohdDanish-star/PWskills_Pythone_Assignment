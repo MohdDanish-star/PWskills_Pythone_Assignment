{
 "cells": [
  {
   "cell_type": "markdown",
   "id": "abf05b23-ed63-48c7-b4ae-6b29d1d15c11",
   "metadata": {},
   "source": [
    "Question 1: Who developed python language"
   ]
  },
  {
   "cell_type": "markdown",
   "id": "9c623ef1-6ed2-4b18-8801-543858972af3",
   "metadata": {},
   "source": [
    "Ans: python is a high level general purpose programming language which is used for building websites, software, automate tasks and data analysis.Python was developed by Guido van Rossum."
   ]
  },
  {
   "cell_type": "markdown",
   "id": "8a6b1dde-788b-40fa-8580-d2330b7acecc",
   "metadata": {},
   "source": [
    "Question 2: Which type of language does python support"
   ]
  },
  {
   "cell_type": "markdown",
   "id": "17ef3d0a-f145-4fc2-b18b-f25a04cd2463",
   "metadata": {},
   "source": [
    "Ans:- Python is an interpreted programming language, which supports object-oriented, structured- oriented and functional programming"
   ]
  },
  {
   "cell_type": "markdown",
   "id": "91bfba71-3fff-4833-8aa5-585fefa72ffc",
   "metadata": {},
   "source": [
    "Question 3: Is python case sensitive when dealing with identifiers"
   ]
  },
  {
   "cell_type": "markdown",
   "id": "b6771479-3abe-489a-9cbe-66e0870dadd2",
   "metadata": {},
   "source": [
    "Ans: - Python is absolutely a case sensitive langauge. it will not refer to the desired identifier in name is not defined correctly."
   ]
  },
  {
   "cell_type": "markdown",
   "id": "1512405a-d816-4c6a-8e41-750e18a8d760",
   "metadata": {},
   "source": [
    "Question 4: What is the correct extension of the python file."
   ]
  },
  {
   "cell_type": "markdown",
   "id": "86fdd89c-928a-4d43-978e-21ba57aa3c40",
   "metadata": {},
   "source": [
    "Ans:- Correct extension of the python file is .py"
   ]
  },
  {
   "cell_type": "markdown",
   "id": "9dd43fdd-9612-4a64-a0a5-c9481d205e61",
   "metadata": {},
   "source": [
    "Question 5: is python code compiled or interpreted"
   ]
  },
  {
   "cell_type": "markdown",
   "id": "139d5fe0-95e5-4876-8960-5757b8a93181",
   "metadata": {},
   "source": [
    "Ans:- Python is a interpreted language. Which means the source code of a python program is converted into bytecode that is than executed by the python virtual machine"
   ]
  },
  {
   "cell_type": "markdown",
   "id": "30c556db-9a4e-46b6-a27d-eb634232ca94",
   "metadata": {},
   "source": [
    "Question 6 : Name a few blocks of code used to define in python language"
   ]
  },
  {
   "cell_type": "markdown",
   "id": "deb8cb59-670c-4f89-94da-3241f52a963c",
   "metadata": {},
   "source": [
    "Ans: - A block of code is a part of the code which is supposed to be executed altogther. Indentation s basically used to define the blocks of code in pyton"
   ]
  },
  {
   "cell_type": "markdown",
   "id": "d4d1ff5e-e576-456c-aa7a-13ceb713579e",
   "metadata": {},
   "source": [
    "Question 7 : State a character used to give give single-line comments in the python"
   ]
  },
  {
   "cell_type": "markdown",
   "id": "2b92b9c5-e757-4fee-83e1-ebb0b9d570af",
   "metadata": {},
   "source": [
    "Ans :- We use \"#\" in python to give the single line comments in the python"
   ]
  },
  {
   "cell_type": "markdown",
   "id": "13c7b932-78b9-41c4-bf9d-f9ecc3eb69de",
   "metadata": {},
   "source": [
    "Question 8: Mention functions which can help us to fin the version of the python currently we are working on"
   ]
  },
  {
   "cell_type": "code",
   "execution_count": 18,
   "id": "b740725e-0b68-4715-97ed-c33d70195547",
   "metadata": {},
   "outputs": [],
   "source": [
    "import sys"
   ]
  },
  {
   "cell_type": "code",
   "execution_count": 19,
   "id": "13539dbd-5b8c-4f16-88f1-0de8643050ef",
   "metadata": {},
   "outputs": [
    {
     "name": "stdout",
     "output_type": "stream",
     "text": [
      "3.10.8 | packaged by conda-forge | (main, Nov 22 2022, 08:26:04) [GCC 10.4.0]\n"
     ]
    }
   ],
   "source": [
    "print(sys.version)"
   ]
  },
  {
   "cell_type": "code",
   "execution_count": 20,
   "id": "b1e4076a-9b9e-40fb-9cde-b6315ea6a40e",
   "metadata": {},
   "outputs": [
    {
     "name": "stdout",
     "output_type": "stream",
     "text": [
      "sys.version_info(major=3, minor=10, micro=8, releaselevel='final', serial=0)\n"
     ]
    }
   ],
   "source": [
    "print(sys.version_info)"
   ]
  },
  {
   "cell_type": "markdown",
   "id": "06979b96-7a4f-484a-874f-cb5cf8281f62",
   "metadata": {},
   "source": [
    "import platform"
   ]
  },
  {
   "cell_type": "code",
   "execution_count": 22,
   "id": "3532c9e9-7c29-4b4c-9ffc-fe230b7f62be",
   "metadata": {},
   "outputs": [
    {
     "name": "stdout",
     "output_type": "stream",
     "text": [
      "<function python_version at 0x7f06f5092ef0>\n"
     ]
    }
   ],
   "source": [
    "print(platform.python_version)"
   ]
  },
  {
   "cell_type": "markdown",
   "id": "adfd94d9-7029-4dce-a392-9292728bc308",
   "metadata": {},
   "source": [
    "Question 9 : Python supports the creation of the annonymous functions at runtime. using a construct called."
   ]
  },
  {
   "cell_type": "markdown",
   "id": "00565863-d758-4b6e-86fc-f5b86e65f7e9",
   "metadata": {},
   "source": [
    "Ans :- Python supports to make anonymous functions which are not bound to a name(@ runtime). It uses a construct called \"lambda\""
   ]
  },
  {
   "cell_type": "markdown",
   "id": "89081d75-9efc-49fa-88dd-c0ec8e622f05",
   "metadata": {},
   "source": [
    "Question 10:- What does pip statnds for python"
   ]
  },
  {
   "cell_type": "markdown",
   "id": "d6ae4cee-d9b5-4849-8ec9-44d5e8e2408b",
   "metadata": {},
   "source": [
    "Ans: - Pip stands for preffered installer pragram"
   ]
  },
  {
   "cell_type": "markdown",
   "id": "23013de3-b736-4159-bd81-e5cdac10d598",
   "metadata": {},
   "source": [
    "Question 11:- Mention a few buit-in functions in python"
   ]
  },
  {
   "cell_type": "markdown",
   "id": "d73b1bd3-5e48-422d-b4d7-08a0bc4a0462",
   "metadata": {},
   "source": [
    "Ans:-A couple of python built-in functions are as followed:- Append(). Insert(), Upper(), Lower(). type(). pop(). reverse(). remove()"
   ]
  },
  {
   "cell_type": "markdown",
   "id": "857d3f3f-0e87-4651-82dc-2d0dec3e90ce",
   "metadata": {},
   "source": [
    "Question 12:- What is the maximum possible length of an identifier in python"
   ]
  },
  {
   "cell_type": "markdown",
   "id": "228e8263-20b4-4424-a562-e545a3b0e71f",
   "metadata": {},
   "source": [
    "Ans:- The maximum length of the identifier in python is 79 characters"
   ]
  },
  {
   "cell_type": "markdown",
   "id": "1fef1d03-c1d6-4364-a8fd-d1a2b649f8e8",
   "metadata": {},
   "source": [
    "Question 13:- What are the benefits of using python."
   ]
  },
  {
   "cell_type": "markdown",
   "id": "9a19c8e6-3f3c-4f88-96f2-50cc41e1c086",
   "metadata": {},
   "source": [
    "Ans:- Python is a multi-purpose language and it is used in multiple domain as in web development, game development, data science and more. Python is also easy to learn hence it is widley used comparing with other languages"
   ]
  },
  {
   "cell_type": "markdown",
   "id": "23ffe720-fc1e-4cca-8213-9e1d020b2361",
   "metadata": {},
   "source": [
    "Question 14:- How is memory managed in the python"
   ]
  },
  {
   "cell_type": "markdown",
   "id": "fa226d7f-e8b8-4a7b-9c53-2fcaae0d86a6",
   "metadata": {},
   "source": [
    "Ans 14:- Memory in oython is managed by python private heap space. All python objects and data types are located in the ptivate heap"
   ]
  },
  {
   "cell_type": "markdown",
   "id": "e37da7c0-2f56-480f-b068-3812b4026fa5",
   "metadata": {},
   "source": [
    "Question 15:- Is indentation required in python"
   ]
  },
  {
   "cell_type": "markdown",
   "id": "2cea2e70-322f-4529-9992-e9b8817544e2",
   "metadata": {},
   "source": [
    "Ans: - Indeentation is a must technique which must be used in the python when developer needs to run a specific block of code. By indentation in python we tell python compiler to specify the block of code."
   ]
  },
  {
   "cell_type": "code",
   "execution_count": null,
   "id": "38394849-ee8b-42f3-bfbc-7d15977b4b3a",
   "metadata": {},
   "outputs": [],
   "source": []
  }
 ],
 "metadata": {
  "kernelspec": {
   "display_name": "Python 3 (ipykernel)",
   "language": "python",
   "name": "python3"
  },
  "language_info": {
   "codemirror_mode": {
    "name": "ipython",
    "version": 3
   },
   "file_extension": ".py",
   "mimetype": "text/x-python",
   "name": "python",
   "nbconvert_exporter": "python",
   "pygments_lexer": "ipython3",
   "version": "3.10.8"
  }
 },
 "nbformat": 4,
 "nbformat_minor": 5
}
