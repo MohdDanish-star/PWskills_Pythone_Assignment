{
 "cells": [
  {
   "cell_type": "markdown",
   "id": "8c922fce-6296-49e8-b4e3-7bfaff12142f",
   "metadata": {},
   "source": [
    "Question 1: Write a program to accept percentage from the user and display the grade accordingly"
   ]
  },
  {
   "cell_type": "code",
   "execution_count": 47,
   "id": "d3e4efc2-0ce1-4c55-b092-44849e054b06",
   "metadata": {},
   "outputs": [
    {
     "name": "stdin",
     "output_type": "stream",
     "text": [
      "Please enter your percentage here (Please do not include % sign in your input:  89\n"
     ]
    },
    {
     "name": "stdout",
     "output_type": "stream",
     "text": [
      "Great Job! You recevied Greade B\n"
     ]
    }
   ],
   "source": [
    "# This program recevies as input from the users and give them grades they fall in:\n",
    "\n",
    "marks = int(input(\"Please enter your percentage here (Please do not include % sign in your input: \"))\n",
    "if marks > 90:\n",
    "    print(\"Congrats! you recevied Greade A\")\n",
    "elif marks >80 and marks <=90:\n",
    "     print(\"Great Job! You recevied Greade B\")\n",
    "elif marks >= 60 and marks <= 80:\n",
    "    print(\"Your Grade is C\")\n",
    "else:\n",
    "    print(\"your Grade is D. You need to work hard\")\n",
    "          \n"
   ]
  },
  {
   "cell_type": "markdown",
   "id": "4fc48a0c-9470-4c55-bad6-3d734b9eea99",
   "metadata": {},
   "source": [
    "Question 2:- Write a program to accept the cost price of a bike and display the road tax to paid accordingly to the given criteria"
   ]
  },
  {
   "cell_type": "code",
   "execution_count": 31,
   "id": "2b027956-0433-47da-b5ca-f82570c29146",
   "metadata": {},
   "outputs": [
    {
     "name": "stdin",
     "output_type": "stream",
     "text": [
      "Please enter your cost here to see the tax:  78001\n"
     ]
    },
    {
     "name": "stdout",
     "output_type": "stream",
     "text": [
      "your tax has been calculated as per 10% tax rate which is:  7800.1\n"
     ]
    }
   ],
   "source": [
    "# this program accept the price as user input and show the tax % along with calculated price\n",
    "\n",
    "p = int(input(\"Please enter your cost here to see the tax: \"))\n",
    "if p > 100000:\n",
    "    print(\"your tax has been calculated as per 15% tax rate which is: \", float(p/100*15))\n",
    "elif p > 50000 and p <= 100000:\n",
    "    print(\"your tax has been calculated as per 10% tax rate which is: \", float(p/100*10))\n",
    "else:\n",
    "    print(\"your tax has been calculated as per 5% tax rate which is: \", float(p/100*5))\n"
   ]
  },
  {
   "cell_type": "markdown",
   "id": "fde44f5a-4b3d-4cd2-b9f7-61e1228652e7",
   "metadata": {},
   "source": [
    "Question 3:- Write a program which accept any city from the user and display monuments of that city"
   ]
  },
  {
   "cell_type": "code",
   "execution_count": 46,
   "id": "3bc3ae62-ee84-40be-8386-8919d10bce3d",
   "metadata": {},
   "outputs": [
    {
     "name": "stdin",
     "output_type": "stream",
     "text": [
      "Please enter city here to explore monumets  DELHI\n"
     ]
    },
    {
     "name": "stdout",
     "output_type": "stream",
     "text": [
      "Famous monument of Delhi is Red Fort\n"
     ]
    }
   ],
   "source": [
    "# This progra, accept city name as user-input and display the monuments of the given city\n",
    "\n",
    "c = input(\"Please enter city here to explore monumets \").capitalize()\n",
    "if c == \"Delhi\":\n",
    "    print(\"Famous monument of\", c , \"is Red Fort\")\n",
    "elif c == \"Agra\":\n",
    "    print(\"Famous monument of\", c , \"is Taj Mahal\")\n",
    "elif c == \"Jaipur\":\n",
    "    print(\"Famous monument of\", c , \"is Jal Mahal\")\n",
    "else:\n",
    "    print(\"Monuments of the given city are not available in the database or please check the spelling\")"
   ]
  },
  {
   "cell_type": "code",
   "execution_count": 19,
   "id": "d954835f-d414-45ab-bb45-9a691bdd27b2",
   "metadata": {},
   "outputs": [
    {
     "name": "stdin",
     "output_type": "stream",
     "text": [
      " 100\n"
     ]
    },
    {
     "data": {
      "text/plain": [
       "30.333333333333336"
      ]
     },
     "execution_count": 19,
     "metadata": {},
     "output_type": "execute_result"
    }
   ],
   "source": [
    "# Please ignore\n",
    "num = int(input())\n",
    "counter = 0\n",
    "while counter <= 10:\n",
    "    counter = counter + num/3\n",
    "counter-3\n",
    "\n"
   ]
  },
  {
   "cell_type": "markdown",
   "id": "4086f7c0-0c97-4c03-b270-0d5e2cea2bf7",
   "metadata": {},
   "source": [
    "Question 4:- Check how many times a given number can be divided by 3 before it is less than or equal to 10"
   ]
  },
  {
   "cell_type": "code",
   "execution_count": 18,
   "id": "25647496-2606-47c6-a947-6445110af85b",
   "metadata": {},
   "outputs": [
    {
     "name": "stdin",
     "output_type": "stream",
     "text": [
      " 100\n"
     ]
    },
    {
     "name": "stdout",
     "output_type": "stream",
     "text": [
      "30.0\n"
     ]
    }
   ],
   "source": [
    "# This code checks and return how many times a given number can be divided by 3 before its <= 10 \n",
    "num = int(input())\n",
    "c = num - 10\n",
    "print(c/3)"
   ]
  },
  {
   "cell_type": "markdown",
   "id": "2b2ea068-2c3a-4c7a-b2ff-c77e3b43a6ce",
   "metadata": {},
   "source": [
    "Question 5:- Why and when to use while loop in python and give a detailed description with example"
   ]
  },
  {
   "cell_type": "code",
   "execution_count": 23,
   "id": "133a3b41-f0aa-4a44-bf71-6041aa6a3f24",
   "metadata": {},
   "outputs": [
    {
     "name": "stdin",
     "output_type": "stream",
     "text": [
      " 15\n"
     ]
    },
    {
     "data": {
      "text/plain": [
       "120"
      ]
     },
     "execution_count": 23,
     "metadata": {},
     "output_type": "execute_result"
    }
   ],
   "source": [
    "# Whe is while loop in python where we have to check if a specific condition is true. and if the comdition set with while loop is true than only while loop will execute \n",
    "# itself. how ever for loop does not check any condition. It only engages itself within a given loop\n",
    "\n",
    "# the code below returns the sum of all the numbers in the range of the given number\n",
    "l = int(input())\n",
    "st = 0\n",
    "counter = 1\n",
    "\n",
    "while counter <=l:\n",
    "    st = st+counter\n",
    "    counter = counter+1\n",
    "st"
   ]
  },
  {
   "cell_type": "markdown",
   "id": "0e2e349e-6491-40c2-a1bb-0ae7fcd20033",
   "metadata": {},
   "source": [
    "Question 6:- Use a nested while to print 3 different patterns"
   ]
  },
  {
   "cell_type": "code",
   "execution_count": 4,
   "id": "cf3831fe-5e2a-4f17-a38b-d0cec0ac674e",
   "metadata": {},
   "outputs": [
    {
     "name": "stdout",
     "output_type": "stream",
     "text": [
      "Danish 20  years Male\n",
      "Danish 20  years Male\n",
      "Danish 20  years Male\n",
      "Danish 20  years Male\n",
      "Danish 20  years Male\n",
      "Danish 20  years Male\n",
      "Danish 20  years Male\n",
      "Danish 20  years Male\n",
      "Danish 20  years Male\n",
      "Danish 20  years Male\n",
      "\n"
     ]
    }
   ],
   "source": [
    "i = 1\n",
    "while i <=10:\n",
    "    print(\"Danish \", end=\"\")\n",
    "    j = 1\n",
    "    while j <=1:\n",
    "        print(20,\" years \", end=\"\")\n",
    "        j = j+1\n",
    "        k = 1\n",
    "        while k <=1:\n",
    "            print('Male')\n",
    "            k = k+1\n",
    "    i = i+1\n",
    "print()"
   ]
  },
  {
   "cell_type": "markdown",
   "id": "a169ce16-0293-4928-a661-3ba9617cc031",
   "metadata": {},
   "source": [
    "Question 7:- reverse a while loop to display numbers from 10 to 1"
   ]
  },
  {
   "cell_type": "code",
   "execution_count": 9,
   "id": "79b73a98-4bda-4709-9898-810dca7be942",
   "metadata": {},
   "outputs": [
    {
     "name": "stdin",
     "output_type": "stream",
     "text": [
      " 10\n"
     ]
    },
    {
     "name": "stdout",
     "output_type": "stream",
     "text": [
      "10\n",
      "9\n",
      "8\n",
      "7\n",
      "6\n",
      "5\n",
      "4\n",
      "3\n",
      "2\n",
      "1\n"
     ]
    },
    {
     "data": {
      "text/plain": [
       "0"
      ]
     },
     "execution_count": 9,
     "metadata": {},
     "output_type": "execute_result"
    }
   ],
   "source": [
    "# this code accepts the input from user and display the values in reverse order\n",
    "n = int(input())\n",
    "p = n\n",
    "while p <=n and p > 0:\n",
    "    print(p)\n",
    "    p = p-1\n",
    "p"
   ]
  },
  {
   "cell_type": "code",
   "execution_count": null,
   "id": "3af62354-edf4-41e7-a745-b612851d7584",
   "metadata": {},
   "outputs": [],
   "source": []
  }
 ],
 "metadata": {
  "kernelspec": {
   "display_name": "Python 3 (ipykernel)",
   "language": "python",
   "name": "python3"
  },
  "language_info": {
   "codemirror_mode": {
    "name": "ipython",
    "version": 3
   },
   "file_extension": ".py",
   "mimetype": "text/x-python",
   "name": "python",
   "nbconvert_exporter": "python",
   "pygments_lexer": "ipython3",
   "version": "3.10.8"
  }
 },
 "nbformat": 4,
 "nbformat_minor": 5
}
