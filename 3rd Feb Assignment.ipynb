{
 "cells": [
  {
   "cell_type": "markdown",
   "id": "4089c81e-2ccf-48a8-b5be-d092ce95e093",
   "metadata": {},
   "source": [
    "Q1. Which keyword is used to create a function? Create a function to return a list of odd numbers in the\n",
    "range of 1 to 25."
   ]
  },
  {
   "cell_type": "markdown",
   "id": "78719ba7-2eff-4e99-85d2-d156a213c145",
   "metadata": {},
   "source": [
    "Ans:- In order to create a function in python we use \"def\" keyword which tells the pyhton compiler that we are goin to create a function and this def keyword is than followed by the function requirement. An eample of the function is given below which returns all the odd numbers from the range of 1 to 25"
   ]
  },
  {
   "cell_type": "code",
   "execution_count": 24,
   "id": "02612a7d-d86a-44ce-962c-1d0409d13215",
   "metadata": {},
   "outputs": [],
   "source": [
    "l = [] # This function takes input fromthe user as range and returns all the odd numbers in the specified range\n",
    "def odd(x):\n",
    "    x = int(input())\n",
    "    for i in range(x+1):\n",
    "        if i %2 != 0:\n",
    "            l.append(i)\n",
    "    return l\n",
    "    "
   ]
  },
  {
   "cell_type": "code",
   "execution_count": 27,
   "id": "a9fa10e5-2183-40f8-bda9-b666c27b3f88",
   "metadata": {},
   "outputs": [
    {
     "name": "stdin",
     "output_type": "stream",
     "text": [
      " 33\n"
     ]
    },
    {
     "data": {
      "text/plain": [
       "[1, 3, 5, 7, 9, 11, 13, 15, 17, 19, 21, 23, 25, 27, 29, 31, 33]"
      ]
     },
     "execution_count": 27,
     "metadata": {},
     "output_type": "execute_result"
    }
   ],
   "source": [
    "odd(25)"
   ]
  },
  {
   "cell_type": "code",
   "execution_count": 53,
   "id": "a05255c3-3a46-4be5-a153-391bcfe2f1e3",
   "metadata": {},
   "outputs": [],
   "source": [
    "l1 = [] # This function takes input from the user as range and returns all the even numbers\n",
    "def even():\n",
    "    a = int(input(\"Please enter a nymber here\"))+1\n",
    "    for i in range(a):\n",
    "        if i % 2 == 0:\n",
    "            l1.append(i)\n",
    "    return l1\n",
    "    "
   ]
  },
  {
   "cell_type": "code",
   "execution_count": 54,
   "id": "1de2c4e5-cd99-4df7-9f09-4a648a494958",
   "metadata": {},
   "outputs": [
    {
     "name": "stdin",
     "output_type": "stream",
     "text": [
      "Please enter a nymber here 20\n"
     ]
    },
    {
     "data": {
      "text/plain": [
       "[0, 2, 4, 6, 8, 10, 12, 14, 16, 18, 20]"
      ]
     },
     "execution_count": 54,
     "metadata": {},
     "output_type": "execute_result"
    }
   ],
   "source": [
    "even()"
   ]
  },
  {
   "cell_type": "code",
   "execution_count": 49,
   "id": "41a8dbe0-0742-403d-8720-8cc481085ad9",
   "metadata": {},
   "outputs": [],
   "source": [
    "odd = [] # This function too takes argumnts from the user and returns odd and even both\n",
    "even = []\n",
    "def func():\n",
    "    x = int(input(\"Enter number here\"))\n",
    "    for i in range(x+1):\n",
    "        if i % 2 ==0:\n",
    "            even.append(i)\n",
    "        elif i % 2 != 0:\n",
    "            odd.append(i)\n",
    "        \n",
    "    return odd, even\n",
    "\n"
   ]
  },
  {
   "cell_type": "code",
   "execution_count": 50,
   "id": "dbc583c6-c267-43bb-989f-deddd89d3ac1",
   "metadata": {},
   "outputs": [
    {
     "name": "stdin",
     "output_type": "stream",
     "text": [
      "Enter number here 36\n"
     ]
    },
    {
     "data": {
      "text/plain": [
       "([1, 3, 5, 7, 9, 11, 13, 15, 17, 19, 21, 23, 25, 27, 29, 31, 33, 35],\n",
       " [0, 2, 4, 6, 8, 10, 12, 14, 16, 18, 20, 22, 24, 26, 28, 30, 32, 34, 36])"
      ]
     },
     "execution_count": 50,
     "metadata": {},
     "output_type": "execute_result"
    }
   ],
   "source": [
    "func()"
   ]
  },
  {
   "cell_type": "markdown",
   "id": "4797d62f-4036-40de-a252-e74a5a550a92",
   "metadata": {},
   "source": [
    "Why *args and **kwargs is used in some functions? Create a function each for *args and **kwargs\n",
    "to demonstrate their use."
   ]
  },
  {
   "cell_type": "markdown",
   "id": "18625322-65b0-4586-a1f6-61021c6447cd",
   "metadata": {},
   "source": [
    "The terms *args and **kwargs are used in Python to pass a variable number of arguments to a function.\n",
    "\n",
    "The *args parameter allows a function to accept a variable number of positional arguments. It is represented by an asterisk followed by the name args, and it collects any number of arguments passed to the function in the form of a tuple. Here's an example function that takes *args:"
   ]
  },
  {
   "cell_type": "code",
   "execution_count": 85,
   "id": "c99d9b97-a16f-468d-b832-fdb850a6b7cd",
   "metadata": {},
   "outputs": [],
   "source": [
    "def sqr(*args): # This function takes n number of arguments from the user and return the square of those arguments\n",
    "    d = []\n",
    "    for i in args:\n",
    "        d.append(i**2)\n",
    "    return d"
   ]
  },
  {
   "cell_type": "code",
   "execution_count": 86,
   "id": "7945a7a8-8305-4547-af1d-6132f7c5cd5f",
   "metadata": {},
   "outputs": [
    {
     "data": {
      "text/plain": [
       "[9, 16, 25, 36, 49, 64]"
      ]
     },
     "execution_count": 86,
     "metadata": {},
     "output_type": "execute_result"
    }
   ],
   "source": [
    "sqr(3,4,5,6,7,8)"
   ]
  },
  {
   "cell_type": "code",
   "execution_count": 89,
   "id": "4211f864-799e-4620-a32d-b26c57642f9c",
   "metadata": {},
   "outputs": [
    {
     "data": {
      "text/plain": [
       "[36, 49, 81, 529]"
      ]
     },
     "execution_count": 89,
     "metadata": {},
     "output_type": "execute_result"
    }
   ],
   "source": [
    "sqr(6,7,9,23)"
   ]
  },
  {
   "cell_type": "markdown",
   "id": "478381e7-332c-4137-97cf-cf7769c116c0",
   "metadata": {},
   "source": [
    "Q3. What is an iterator in python? Name the method used to initialise the iterator object and the method\n",
    "used for iteration. Use these methods to print the first five elements of the given list [2, 4, 6, 8, 10, 12, 14,\n",
    "16, 18, 20]."
   ]
  },
  {
   "cell_type": "markdown",
   "id": "28612751-e1d4-440c-b3f7-363c4fad6173",
   "metadata": {},
   "source": [
    "Ans:- Ans:- An iterator in python is an object which can be iterated in a sequece. In python we use iter function to initialize the iterator object and use next() method for iteration"
   ]
  },
  {
   "cell_type": "code",
   "execution_count": 94,
   "id": "42cbe218-fc55-4f02-897f-28c0ae73b2dc",
   "metadata": {},
   "outputs": [],
   "source": [
    "l5 = [2, 4, 6, 8, 10, 12, 14,\n",
    "16, 18, 20]"
   ]
  },
  {
   "cell_type": "code",
   "execution_count": 98,
   "id": "2bbc01ff-673b-4137-9864-d2f429cfe935",
   "metadata": {},
   "outputs": [],
   "source": [
    "list_iter = iter(l5)"
   ]
  },
  {
   "cell_type": "code",
   "execution_count": 99,
   "id": "64f28b17-3ac2-413a-98f2-5515359bef64",
   "metadata": {},
   "outputs": [
    {
     "data": {
      "text/plain": [
       "2"
      ]
     },
     "execution_count": 99,
     "metadata": {},
     "output_type": "execute_result"
    }
   ],
   "source": [
    "next(list_iter)"
   ]
  },
  {
   "cell_type": "code",
   "execution_count": 100,
   "id": "4a2b7234-9026-4f9a-bf07-a2a6edfa51ad",
   "metadata": {},
   "outputs": [
    {
     "data": {
      "text/plain": [
       "4"
      ]
     },
     "execution_count": 100,
     "metadata": {},
     "output_type": "execute_result"
    }
   ],
   "source": [
    "next(list_iter)"
   ]
  },
  {
   "cell_type": "code",
   "execution_count": 101,
   "id": "ae80555a-7493-469b-a5cf-15e7174b8c93",
   "metadata": {},
   "outputs": [
    {
     "data": {
      "text/plain": [
       "6"
      ]
     },
     "execution_count": 101,
     "metadata": {},
     "output_type": "execute_result"
    }
   ],
   "source": [
    "next(list_iter)"
   ]
  },
  {
   "cell_type": "code",
   "execution_count": 102,
   "id": "0b0a6350-7d22-4f48-8b34-3b3324b6936c",
   "metadata": {},
   "outputs": [
    {
     "data": {
      "text/plain": [
       "8"
      ]
     },
     "execution_count": 102,
     "metadata": {},
     "output_type": "execute_result"
    }
   ],
   "source": [
    "next(list_iter)"
   ]
  },
  {
   "cell_type": "markdown",
   "id": "553fb8bb-98d2-4d5d-b72b-a15ccaeb4af3",
   "metadata": {},
   "source": [
    "Question 4:- What is a generator function in python? Why yield keyword is used? Give an example of a generator\n",
    "function."
   ]
  },
  {
   "cell_type": "markdown",
   "id": "f486258a-7c52-4032-9120-a81f1d28b74e",
   "metadata": {},
   "source": [
    "Ans:- Generator function is a function in python which helps us optimizing the memory of the mechine. it can generate n number of values and can keep holding within itself unless we ask for som defined values"
   ]
  },
  {
   "cell_type": "code",
   "execution_count": 100,
   "id": "60c55180-aa00-465f-ab34-a267e4551388",
   "metadata": {},
   "outputs": [],
   "source": [
    "def gen(a):\n",
    "    n = 1\n",
    "    while n <= a:\n",
    "        sq = n*n\n",
    "        yield sq\n",
    "        n = n+1\n",
    "        \n",
    "    \n"
   ]
  },
  {
   "cell_type": "code",
   "execution_count": 101,
   "id": "09f82463-f21c-4067-8b93-1ff2a456af89",
   "metadata": {},
   "outputs": [],
   "source": [
    "values = gen(15)"
   ]
  },
  {
   "cell_type": "code",
   "execution_count": 102,
   "id": "11e05f1b-36b6-45b1-a4e8-6702fa62c384",
   "metadata": {},
   "outputs": [
    {
     "name": "stdout",
     "output_type": "stream",
     "text": [
      "1\n",
      "4\n",
      "9\n",
      "16\n",
      "25\n",
      "36\n",
      "49\n",
      "64\n",
      "81\n",
      "100\n",
      "121\n",
      "144\n",
      "169\n",
      "196\n",
      "225\n"
     ]
    }
   ],
   "source": [
    "for i in values:\n",
    "    print(i)"
   ]
  },
  {
   "cell_type": "markdown",
   "id": "71b9bf2b-2ddb-467f-95f2-7a3854b2d0f0",
   "metadata": {},
   "source": [
    "Q5. Create a generator function for prime numbers less than 1000. Use the next() method to print the\n",
    "first 20 prime numbers."
   ]
  },
  {
   "cell_type": "code",
   "execution_count": 19,
   "id": "29ab40cd-72ed-4e12-8804-f923df1535d4",
   "metadata": {},
   "outputs": [],
   "source": [
    "def gen1(): \n",
    "    for i in range(1000):\n",
    "        if i %2 !=0:\n",
    "            yield i"
   ]
  },
  {
   "cell_type": "code",
   "execution_count": 20,
   "id": "2a7bca83-eb98-4ee1-a489-e7c4c965b01e",
   "metadata": {},
   "outputs": [],
   "source": [
    "num = gen1()"
   ]
  },
  {
   "cell_type": "code",
   "execution_count": 21,
   "id": "35f9264c-4aea-4f85-a78e-05e39e84880d",
   "metadata": {},
   "outputs": [
    {
     "name": "stdout",
     "output_type": "stream",
     "text": [
      "1 3 5 7 9 11 13 15 17 19 21 23 25 27 29 31 33 35 37 39 41 43 45 47 49 51 53 55 57 59 61 63 65 67 69 71 73 75 77 79 81 83 85 87 89 91 93 95 97 99 101 103 105 107 109 111 113 115 117 119 121 123 125 127 129 131 133 135 137 139 141 143 145 147 149 151 153 155 157 159 161 163 165 167 169 171 173 175 177 179 181 183 185 187 189 191 193 195 197 199 201 203 205 207 209 211 213 215 217 219 221 223 225 227 229 231 233 235 237 239 241 243 245 247 249 251 253 255 257 259 261 263 265 267 269 271 273 275 277 279 281 283 285 287 289 291 293 295 297 299 301 303 305 307 309 311 313 315 317 319 321 323 325 327 329 331 333 335 337 339 341 343 345 347 349 351 353 355 357 359 361 363 365 367 369 371 373 375 377 379 381 383 385 387 389 391 393 395 397 399 401 403 405 407 409 411 413 415 417 419 421 423 425 427 429 431 433 435 437 439 441 443 445 447 449 451 453 455 457 459 461 463 465 467 469 471 473 475 477 479 481 483 485 487 489 491 493 495 497 499 501 503 505 507 509 511 513 515 517 519 521 523 525 527 529 531 533 535 537 539 541 543 545 547 549 551 553 555 557 559 561 563 565 567 569 571 573 575 577 579 581 583 585 587 589 591 593 595 597 599 601 603 605 607 609 611 613 615 617 619 621 623 625 627 629 631 633 635 637 639 641 643 645 647 649 651 653 655 657 659 661 663 665 667 669 671 673 675 677 679 681 683 685 687 689 691 693 695 697 699 701 703 705 707 709 711 713 715 717 719 721 723 725 727 729 731 733 735 737 739 741 743 745 747 749 751 753 755 757 759 761 763 765 767 769 771 773 775 777 779 781 783 785 787 789 791 793 795 797 799 801 803 805 807 809 811 813 815 817 819 821 823 825 827 829 831 833 835 837 839 841 843 845 847 849 851 853 855 857 859 861 863 865 867 869 871 873 875 877 879 881 883 885 887 889 891 893 895 897 899 901 903 905 907 909 911 913 915 917 919 921 923 925 927 929 931 933 935 937 939 941 943 945 947 949 951 953 955 957 959 961 963 965 967 969 971 973 975 977 979 981 983 985 987 989 991 993 995 997 999 "
     ]
    }
   ],
   "source": [
    "for i in num:\n",
    "    print(i,end=\" \")"
   ]
  },
  {
   "cell_type": "code",
   "execution_count": 26,
   "id": "6c5c7fe9-d98b-497c-a8e7-6aac6d13e64d",
   "metadata": {},
   "outputs": [],
   "source": [
    "num1 = iter(num)"
   ]
  },
  {
   "cell_type": "markdown",
   "id": "c840a7e5-d549-4530-8696-f8527f23159b",
   "metadata": {},
   "source": [
    "Q6. Write a python program to print the first 10 Fibonacci numbers using a while loop."
   ]
  },
  {
   "cell_type": "code",
   "execution_count": 28,
   "id": "698aaea9-16e8-491f-911d-3e3d0626d8ba",
   "metadata": {},
   "outputs": [
    {
     "name": "stdout",
     "output_type": "stream",
     "text": [
      "0\n",
      "1\n",
      "1\n",
      "2\n",
      "3\n",
      "5\n",
      "8\n"
     ]
    }
   ],
   "source": [
    "a,b = 0,1\n",
    "while a <=10:\n",
    "    print(a)\n",
    "    a,b = b,a+b"
   ]
  },
  {
   "cell_type": "code",
   "execution_count": 34,
   "id": "c26e70f6-6877-416e-ab7d-8d40ca52e43a",
   "metadata": {},
   "outputs": [
    {
     "name": "stdin",
     "output_type": "stream",
     "text": [
      "enter number here 10\n"
     ]
    },
    {
     "name": "stdout",
     "output_type": "stream",
     "text": [
      "0\n",
      "1\n",
      "1\n",
      "2\n",
      "3\n",
      "5\n",
      "8\n",
      "13\n",
      "21\n",
      "34\n"
     ]
    }
   ],
   "source": [
    "#taking range fromthe user\n",
    "\n",
    "x = int(input('enter number here'))-1\n",
    "a,b = 0,1\n",
    "counter = 0\n",
    "while counter <=x:\n",
    "    print(a)\n",
    "    a,b = b,b+a\n",
    "    counter += 1"
   ]
  },
  {
   "cell_type": "markdown",
   "id": "7b175b08-f363-4749-a388-49f0cb091df3",
   "metadata": {},
   "source": [
    "Q7. Write a List Comprehension to iterate through the given string: ‘pwskills’.\n",
    "Expected output: ['p', 'w', 's', 'k', 'i', 'l', 'l', 's']"
   ]
  },
  {
   "cell_type": "code",
   "execution_count": 36,
   "id": "24df916b-c622-4483-9546-e6af7767c01a",
   "metadata": {},
   "outputs": [],
   "source": [
    "l = 'pwskills'"
   ]
  },
  {
   "cell_type": "code",
   "execution_count": 37,
   "id": "1a2e60fa-6eb3-41ef-ba46-5c35efe800ad",
   "metadata": {},
   "outputs": [
    {
     "data": {
      "text/plain": [
       "['p', 'w', 's', 'k', 'i', 'l', 'l', 's']"
      ]
     },
     "execution_count": 37,
     "metadata": {},
     "output_type": "execute_result"
    }
   ],
   "source": [
    "[i for i in l]"
   ]
  },
  {
   "cell_type": "markdown",
   "id": "fc84030e-80ee-40cd-a9bb-79be496344a7",
   "metadata": {},
   "source": [
    "Q8. Write a python program to check whether a given number is Palindrome or not using a while loop."
   ]
  },
  {
   "cell_type": "code",
   "execution_count": 38,
   "id": "e221e3c7-87d7-438c-9fce-ad27dc4489b3",
   "metadata": {},
   "outputs": [
    {
     "name": "stdin",
     "output_type": "stream",
     "text": [
      "Enter a number:  30\n"
     ]
    },
    {
     "name": "stdout",
     "output_type": "stream",
     "text": [
      "30 is not a palindrome number\n"
     ]
    }
   ],
   "source": [
    "num = int(input(\"Enter a number: \"))\n",
    "temp = num\n",
    "rev = 0\n",
    "\n",
    "while temp > 0:\n",
    "    digit = temp % 10\n",
    "    rev = rev * 10 + digit\n",
    "    temp //= 10\n",
    "\n",
    "if num == rev:\n",
    "    print(num, \"is a palindrome number\")\n",
    "else:\n",
    "    print(num, \"is not a palindrome number\")\n"
   ]
  },
  {
   "cell_type": "markdown",
   "id": "50f34bb5-56b3-4871-aa58-b75245eacaef",
   "metadata": {},
   "source": [
    "Q9:-Write a code to print odd numbers from 1 to 100 using list comprehension."
   ]
  },
  {
   "cell_type": "code",
   "execution_count": 45,
   "id": "4893c19b-2fca-4b43-a44c-bf6f35f10680",
   "metadata": {},
   "outputs": [
    {
     "data": {
      "text/plain": [
       "[1,\n",
       " 3,\n",
       " 5,\n",
       " 7,\n",
       " 9,\n",
       " 11,\n",
       " 13,\n",
       " 15,\n",
       " 17,\n",
       " 19,\n",
       " 21,\n",
       " 23,\n",
       " 25,\n",
       " 27,\n",
       " 29,\n",
       " 31,\n",
       " 33,\n",
       " 35,\n",
       " 37,\n",
       " 39,\n",
       " 41,\n",
       " 43,\n",
       " 45,\n",
       " 47,\n",
       " 49,\n",
       " 51,\n",
       " 53,\n",
       " 55,\n",
       " 57,\n",
       " 59,\n",
       " 61,\n",
       " 63,\n",
       " 65,\n",
       " 67,\n",
       " 69,\n",
       " 71,\n",
       " 73,\n",
       " 75,\n",
       " 77,\n",
       " 79,\n",
       " 81,\n",
       " 83,\n",
       " 85,\n",
       " 87,\n",
       " 89,\n",
       " 91,\n",
       " 93,\n",
       " 95,\n",
       " 97,\n",
       " 99]"
      ]
     },
     "execution_count": 45,
     "metadata": {},
     "output_type": "execute_result"
    }
   ],
   "source": [
    "[i for i in range(100) if i %2 !=0]"
   ]
  },
  {
   "cell_type": "code",
   "execution_count": null,
   "id": "47fac065-e320-4e2c-b5b3-5ee6637783f4",
   "metadata": {},
   "outputs": [],
   "source": []
  }
 ],
 "metadata": {
  "kernelspec": {
   "display_name": "Python 3 (ipykernel)",
   "language": "python",
   "name": "python3"
  },
  "language_info": {
   "codemirror_mode": {
    "name": "ipython",
    "version": 3
   },
   "file_extension": ".py",
   "mimetype": "text/x-python",
   "name": "python",
   "nbconvert_exporter": "python",
   "pygments_lexer": "ipython3",
   "version": "3.10.8"
  }
 },
 "nbformat": 4,
 "nbformat_minor": 5
}
