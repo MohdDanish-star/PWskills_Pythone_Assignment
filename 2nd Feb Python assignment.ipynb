{
 "cells": [
  {
   "cell_type": "markdown",
   "id": "7a495a9f-452f-4674-9344-aaf06e87268f",
   "metadata": {},
   "source": [
    "Question 1:- Explain with an example each when to use a for loop and a while loop."
   ]
  },
  {
   "cell_type": "markdown",
   "id": "cf1b2104-7ee5-43f0-850a-9af886fdda20",
   "metadata": {},
   "source": [
    "Ans: For Loop:-\n",
    "For loop is a built-in function in the python which iterate over a sequence We have for loop when we have a block of code and want to repeat it to the certain number of times. The for-loop is always used in combination with an iterable object, like a list or a range."
   ]
  },
  {
   "cell_type": "code",
   "execution_count": 1,
   "id": "9a0010db-1484-4059-8bf0-b477974ddc73",
   "metadata": {},
   "outputs": [
    {
     "name": "stdin",
     "output_type": "stream",
     "text": [
      "Enter your number here to see the table:  45\n"
     ]
    },
    {
     "name": "stdout",
     "output_type": "stream",
     "text": [
      "45 * 1 = 45\n",
      "45 * 2 = 90\n",
      "45 * 3 = 135\n",
      "45 * 4 = 180\n",
      "45 * 5 = 225\n",
      "45 * 6 = 270\n",
      "45 * 7 = 315\n",
      "45 * 8 = 360\n",
      "45 * 9 = 405\n",
      "45 * 10 = 450\n"
     ]
    }
   ],
   "source": [
    "l = int(input(\"Enter your number here to see the table: \")) # this code returns the table of any given number using for loop\n",
    "a,b = 0,1\n",
    "for i in range(1,11):\n",
    "    print(l,\"*\",i,\"=\",l*i)"
   ]
  },
  {
   "cell_type": "markdown",
   "id": "a6f1e3f0-c44b-4fc4-bdc8-613f8a24de58",
   "metadata": {},
   "source": [
    "Ans while loop:- We use while loop when we want certain condition to be true and that execute. Below is an example of the while loop which will print \"Name\",\"Age\" and \"Sex\" in the number of sequence provided by the user"
   ]
  },
  {
   "cell_type": "code",
   "execution_count": 1,
   "id": "50628f10-43aa-406d-bdd9-7a420f82a25f",
   "metadata": {},
   "outputs": [
    {
     "name": "stdin",
     "output_type": "stream",
     "text": [
      "Enter number of occurence here:  5\n"
     ]
    },
    {
     "name": "stdout",
     "output_type": "stream",
     "text": [
      "Danish 20 Male\n",
      "Danish 20 Male\n",
      "Danish 20 Male\n",
      "Danish 20 Male\n",
      "Danish 20 Male\n",
      "\n"
     ]
    }
   ],
   "source": [
    "a = int(input(\"Enter number of occurence here: \"))\n",
    "b = 1\n",
    "while b <= a:\n",
    "    print(\"Danish\", end=\" \")\n",
    "    c = 1\n",
    "    while c <= 1:\n",
    "        print(\"20\", end=\" \")\n",
    "        c = c+1\n",
    "        d = 1\n",
    "        while d <=1:\n",
    "            print(\"Male\")\n",
    "            d = d+1\n",
    "        \n",
    "    b = b+1\n",
    "print()\n",
    "\n"
   ]
  },
  {
   "cell_type": "markdown",
   "id": "90bd8931-cef0-4779-97a8-062722daaa77",
   "metadata": {},
   "source": [
    "Question 2:- Write a python program to print the sum and product of the first 10 natural numbers using for\n",
    "and while loop."
   ]
  },
  {
   "cell_type": "code",
   "execution_count": 61,
   "id": "5264f2c3-438d-4eb7-be35-1e15d151deee",
   "metadata": {},
   "outputs": [
    {
     "name": "stdout",
     "output_type": "stream",
     "text": [
      "The sum of first 10 natural numbers using for loop: 55\n"
     ]
    }
   ],
   "source": [
    "sum = 0 # Sum of the first 10 natural numbers using for loop\n",
    "for i in range(1, 11):\n",
    "    sum += i\n",
    "print(\"The sum of first 10 natural numbers using for loop:\", sum)"
   ]
  },
  {
   "cell_type": "code",
   "execution_count": 69,
   "id": "6ed93d42-850e-4e42-a9dc-27aefb4272f4",
   "metadata": {},
   "outputs": [
    {
     "name": "stdout",
     "output_type": "stream",
     "text": [
      "55\n"
     ]
    }
   ],
   "source": [
    "a = 0\n",
    "for i in range(1,11):\n",
    "    a+=i\n",
    "print(a)"
   ]
  },
  {
   "cell_type": "code",
   "execution_count": 70,
   "id": "3c7e0e25-65dd-4885-a5a6-9041bc2ecdd9",
   "metadata": {},
   "outputs": [
    {
     "name": "stdout",
     "output_type": "stream",
     "text": [
      "55\n"
     ]
    }
   ],
   "source": [
    "a=0 # Sum of the first 10 natural numbers using while loop\n",
    "i=1\n",
    "while i <=10:\n",
    "    a+=i\n",
    "    i+=1\n",
    "print(a)"
   ]
  },
  {
   "cell_type": "code",
   "execution_count": 72,
   "id": "89ea7b78-ca2b-466f-801e-051a2918cf54",
   "metadata": {},
   "outputs": [
    {
     "name": "stdout",
     "output_type": "stream",
     "text": [
      "3628800\n"
     ]
    }
   ],
   "source": [
    "product = 1  #product of the first 10 natural numbers using for loop\n",
    "for i in range(1,11):\n",
    "    product*=i\n",
    "print(product)"
   ]
  },
  {
   "cell_type": "code",
   "execution_count": 74,
   "id": "a2a634be-531d-4ab7-b494-2609a4125830",
   "metadata": {},
   "outputs": [
    {
     "name": "stdout",
     "output_type": "stream",
     "text": [
      "3628800\n"
     ]
    }
   ],
   "source": [
    "product = 1 #Product of the first 10 natural numbers using while loop\n",
    "i = 1\n",
    "while i <=10:\n",
    "    product*=i\n",
    "    i+=1\n",
    "print(product)\n"
   ]
  },
  {
   "cell_type": "markdown",
   "id": "f1b990dd-e2e8-425b-b12a-b8eda967c593",
   "metadata": {},
   "source": [
    "Q3. Create a python program to compute the electricity bill for a household. The per-unit charges in rupees are as follows: For the first 100 units, the user will be charged Rs. 4.5 per\n",
    "unit, for the next 100 units, the user will be charged Rs. 6 per unit, and for the next 100 units, the user will\n",
    "be charged Rs. 10 per unit, After 300 units and above the user will be charged Rs. 20 per unit."
   ]
  },
  {
   "cell_type": "code",
   "execution_count": 3,
   "id": "4cb9904f-6209-4fb0-947e-639c6329e460",
   "metadata": {},
   "outputs": [
    {
     "name": "stdin",
     "output_type": "stream",
     "text": [
      "please enter your units here:  310\n"
     ]
    },
    {
     "name": "stdout",
     "output_type": "stream",
     "text": [
      "Your total units: 310 | charge rate: Rs 4.5 first 100 units. Rs 6 per unit above 100 till 200 units. Rs 10 above 200 till 300 units. Above 300 units, you will be chared Rs 20 per unit\n",
      "Total Payable Amount:- 2250.0\n"
     ]
    }
   ],
   "source": [
    "# This program calculates electricity rates and returns the payable amount to the customer along with billing calculation\n",
    "\n",
    "units = int(input(\"please enter your units here: \"))\n",
    "if units <=100:\n",
    "    print(\"Your total units:\",units,\"|\",\"charge rate: Rs 4.5 per unit.\")\n",
    "    print(\"Total Payable Amount:-\",units*4.5)\n",
    "elif units > 100 and units <=200:\n",
    "    a = units - 100\n",
    "    b = units - a\n",
    "    print(\"Your total units:\",units,\"|\",\"charge rate: Rs 4.5 per unit till first 100 units. Rs 6 per unit above 100 till 200 units\",)\n",
    "    print(\"Total Payable Amount:-\",a*6+b*4.5)\n",
    "elif units > 200 and units <=300:\n",
    "    a1 = 100\n",
    "    b1 = 100\n",
    "    c1 = units - (a1+b1)\n",
    "    print(\"Your total units:\",units,\"|\",\"charge rate: Rs 4.5 first 100 units. Rs 6 per unit above 100 till 200 units. Rs 10 above 200 till 300 units\",)\n",
    "    print(\"Total Payable Amount:-\",a1*4.5+b1*6+c1*10)\n",
    "elif units > 300:\n",
    "    \n",
    "        a2 = 100\n",
    "        b2 = 100\n",
    "        c2 = 100\n",
    "        d1 = units - (a2+b2+c2)\n",
    "        print(\"Your total units:\",units,\"|\",\"charge rate: Rs 4.5 first 100 units. Rs 6 per unit above 100 till 200 units. Rs 10 above 200 till 300 units. Above 300 units, you will be chared Rs 20 per unit\",)\n",
    "        print(\"Total Payable Amount:-\",a2*4.5+b2*6+c2*10+d1*20)"
   ]
  },
  {
   "cell_type": "markdown",
   "id": "6df12b86-0e12-410c-9404-08422570a9e7",
   "metadata": {},
   "source": [
    "Q4. Create a list of numbers from 1 to 100. Use for loop and while loop to calculate the cube of each\n",
    "number and if the cube of that number is divisible by 4 or 5 then append that number in a list and print\n",
    "hat list."
   ]
  },
  {
   "cell_type": "code",
   "execution_count": 20,
   "id": "8eaa780a-aac5-4862-93be-3c9358b09366",
   "metadata": {},
   "outputs": [
    {
     "name": "stdout",
     "output_type": "stream",
     "text": [
      "[2, 4, 5, 6, 8, 10, 12, 14, 15, 16, 18, 20, 22, 24, 25, 26, 28, 30, 32, 34, 35, 36, 38, 40, 42, 44, 45, 46, 48, 50, 52, 54, 55, 56, 58, 60, 62, 64, 65, 66, 68, 70, 72, 74, 75, 76, 78, 80, 82, 84, 85, 86, 88, 90, 92, 94, 95, 96, 98, 100]\n"
     ]
    }
   ],
   "source": [
    "# Using for loop\n",
    "\n",
    "cubes = []\n",
    "for i in range(1,101):\n",
    "    cube = i**3\n",
    "    if (cube % 4 ==0) or (cube % 5 ==0):\n",
    "        cubes.append(i)\n",
    "print(cubes)\n",
    "\n",
    "    "
   ]
  },
  {
   "cell_type": "code",
   "execution_count": 31,
   "id": "e61bbeab-72bf-46cb-ad5b-fedfc05090dd",
   "metadata": {},
   "outputs": [
    {
     "name": "stdout",
     "output_type": "stream",
     "text": [
      "[2, 4, 5, 6, 8, 10, 12, 14, 15, 16, 18, 20, 22, 24, 25, 26, 28, 30, 32, 34, 35, 36, 38, 40, 42, 44, 45, 46, 48, 50, 52, 54, 55, 56, 58, 60, 62, 64, 65, 66, 68, 70, 72, 74, 75, 76, 78, 80, 82, 84, 85, 86, 88, 90, 92, 94, 95, 96, 98, 100]\n"
     ]
    }
   ],
   "source": [
    "# Using While loop\n",
    "cube1 = []\n",
    "i = 1\n",
    "\n",
    "while i <=100:\n",
    "    cube = i**3\n",
    "    if (cube % 4 ==0) or (cube % 5 ==0):\n",
    "        cube1.append(i)\n",
    "    i += 1\n",
    "print(cube1)\n"
   ]
  },
  {
   "cell_type": "markdown",
   "id": "e8cff65a-1c03-4423-930b-e71c0cfb3e48",
   "metadata": {},
   "source": [
    "Q5. Write a program to filter count vowels in the below-given string.\n",
    "string = \"I want to become a data scientist\""
   ]
  },
  {
   "cell_type": "code",
   "execution_count": 32,
   "id": "55cc7990-b892-4512-b267-adcb023ba94b",
   "metadata": {},
   "outputs": [],
   "source": [
    "a = \"I want to become a data scientist\""
   ]
  },
  {
   "cell_type": "code",
   "execution_count": 33,
   "id": "3287c7c5-2cc9-42b7-a2d1-b4543345ff51",
   "metadata": {},
   "outputs": [
    {
     "data": {
      "text/plain": [
       "'I want to become a data scientist'"
      ]
     },
     "execution_count": 33,
     "metadata": {},
     "output_type": "execute_result"
    }
   ],
   "source": [
    "a"
   ]
  },
  {
   "cell_type": "code",
   "execution_count": 34,
   "id": "d49a30f8-dbb5-4293-ab75-7db3e10f177e",
   "metadata": {},
   "outputs": [
    {
     "name": "stdout",
     "output_type": "stream",
     "text": [
      "Number of vowels in the given string: 12\n"
     ]
    }
   ],
   "source": [
    "string = \"I want to become a data scientist\"\n",
    "vowels = \"aeiouAEIOU\"\n",
    "count = 0\n",
    "\n",
    "for char in string:\n",
    "    if char in vowels:\n",
    "        count += 1\n",
    "\n",
    "print(\"Number of vowels in the given string:\", count)"
   ]
  },
  {
   "cell_type": "code",
   "execution_count": null,
   "id": "c8125864-4e51-431c-a4a9-f7b902d90b92",
   "metadata": {},
   "outputs": [],
   "source": []
  }
 ],
 "metadata": {
  "kernelspec": {
   "display_name": "Python 3 (ipykernel)",
   "language": "python",
   "name": "python3"
  },
  "language_info": {
   "codemirror_mode": {
    "name": "ipython",
    "version": 3
   },
   "file_extension": ".py",
   "mimetype": "text/x-python",
   "name": "python",
   "nbconvert_exporter": "python",
   "pygments_lexer": "ipython3",
   "version": "3.10.8"
  }
 },
 "nbformat": 4,
 "nbformat_minor": 5
}
